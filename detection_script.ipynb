{
 "cells": [
  {
   "cell_type": "markdown",
   "id": "5b96e124-3ae3-455e-809e-d0170f4f7b4e",
   "metadata": {},
   "source": [
    "# Gloved vs Ungloved Hand Detection\n",
    "\n",
    "This notebook loads my trained YOLOv8 model and runs hand detection on images from my Part_1_Glove_Detection project. Detected hands get boxed and labeled in saved images, and results are logged as JSON.\n"
   ]
  },
  {
   "cell_type": "code",
   "execution_count": 10,
   "id": "19400981-3098-4a09-a26e-78345b6b72b9",
   "metadata": {},
   "outputs": [],
   "source": [
    "# Imports\n",
    "from ultralytics import YOLO\n",
    "import os\n",
    "import json\n",
    "from glob import glob\n",
    "import cv2\n",
    "from pathlib import Path\n",
    "import matplotlib.pyplot as plt\n",
    "import random\n"
   ]
  },
  {
   "cell_type": "markdown",
   "id": "82ee30c6-de02-488a-a3b9-7c6c5f24f651",
   "metadata": {},
   "source": [
    "### Paths\n",
    "\n",
    "All folders are already set up:\n",
    "- Trained weights file: `best.pt` (placed in this same directory)\n",
    "- Test images folder: `test_images` (test .jpg images here)\n",
    "- Annotated images will be saved to `output/`\n",
    "- JSON logs go into `logs/`\n"
   ]
  },
  {
   "cell_type": "markdown",
   "id": "aa04fa0f-206e-427d-9963-38f41832cbfa",
   "metadata": {},
   "source": [
    "### Dataset and Model\n",
    "\n",
    "Dataset: Gloves and bare hands detection from Roboflow Universe.\n",
    "Classes: gloved_hand, bare_hand\n",
    "Model: YOLOv8n pretrained on COCO, fine-tuned here on the glove dataset for 3 epochs.\n"
   ]
  },
  {
   "cell_type": "markdown",
   "id": "0d857c15-1a8c-4fc1-8936-aa73db3e21d0",
   "metadata": {},
   "source": [
    "# Train the model"
   ]
  },
  {
   "cell_type": "code",
   "execution_count": 11,
   "id": "de6aff4e-a185-4702-9581-48492cb8f591",
   "metadata": {},
   "outputs": [
    {
     "name": "stdout",
     "output_type": "stream",
     "text": [
      "New https://pypi.org/project/ultralytics/8.3.184 available  Update with 'pip install -U ultralytics'\n",
      "Ultralytics 8.3.182  Python-3.11.4 torch-2.8.0+cpu CPU (11th Gen Intel Core(TM) i5-1135G7 2.40GHz)\n",
      "\u001b[34m\u001b[1mengine\\trainer: \u001b[0magnostic_nms=False, amp=True, augment=False, auto_augment=randaugment, batch=16, bgr=0.0, box=7.5, cache=False, cfg=None, classes=None, close_mosaic=10, cls=0.5, conf=None, copy_paste=0.0, copy_paste_mode=flip, cos_lr=False, cutmix=0.0, data=../Gloves and bare hands detection.v2i.yolov8/data.yaml, degrees=0.0, deterministic=True, device=cpu, dfl=1.5, dnn=False, dropout=0.0, dynamic=False, embed=None, epochs=3, erasing=0.4, exist_ok=False, fliplr=0.5, flipud=0.0, format=torchscript, fraction=1.0, freeze=None, half=False, hsv_h=0.015, hsv_s=0.7, hsv_v=0.4, imgsz=640, int8=False, iou=0.7, keras=False, kobj=1.0, line_width=None, lr0=0.01, lrf=0.01, mask_ratio=4, max_det=300, mixup=0.0, mode=train, model=yolov8n.pt, momentum=0.937, mosaic=1.0, multi_scale=False, name=train15, nbs=64, nms=False, opset=None, optimize=False, optimizer=auto, overlap_mask=True, patience=100, perspective=0.0, plots=True, pose=12.0, pretrained=True, profile=False, project=None, rect=False, resume=False, retina_masks=False, save=True, save_conf=False, save_crop=False, save_dir=runs\\detect\\train15, save_frames=False, save_json=False, save_period=-1, save_txt=False, scale=0.5, seed=0, shear=0.0, show=False, show_boxes=True, show_conf=True, show_labels=True, simplify=True, single_cls=False, source=None, split=val, stream_buffer=False, task=detect, time=None, tracker=botsort.yaml, translate=0.1, val=True, verbose=True, vid_stride=1, visualize=False, warmup_bias_lr=0.1, warmup_epochs=3.0, warmup_momentum=0.8, weight_decay=0.0005, workers=8, workspace=None\n",
      "Overriding model.yaml nc=80 with nc=3\n",
      "\n",
      "                   from  n    params  module                                       arguments                     \n",
      "  0                  -1  1       464  ultralytics.nn.modules.conv.Conv             [3, 16, 3, 2]                 \n",
      "  1                  -1  1      4672  ultralytics.nn.modules.conv.Conv             [16, 32, 3, 2]                \n",
      "  2                  -1  1      7360  ultralytics.nn.modules.block.C2f             [32, 32, 1, True]             \n",
      "  3                  -1  1     18560  ultralytics.nn.modules.conv.Conv             [32, 64, 3, 2]                \n",
      "  4                  -1  2     49664  ultralytics.nn.modules.block.C2f             [64, 64, 2, True]             \n",
      "  5                  -1  1     73984  ultralytics.nn.modules.conv.Conv             [64, 128, 3, 2]               \n",
      "  6                  -1  2    197632  ultralytics.nn.modules.block.C2f             [128, 128, 2, True]           \n",
      "  7                  -1  1    295424  ultralytics.nn.modules.conv.Conv             [128, 256, 3, 2]              \n",
      "  8                  -1  1    460288  ultralytics.nn.modules.block.C2f             [256, 256, 1, True]           \n",
      "  9                  -1  1    164608  ultralytics.nn.modules.block.SPPF            [256, 256, 5]                 \n",
      " 10                  -1  1         0  torch.nn.modules.upsampling.Upsample         [None, 2, 'nearest']          \n",
      " 11             [-1, 6]  1         0  ultralytics.nn.modules.conv.Concat           [1]                           \n",
      " 12                  -1  1    148224  ultralytics.nn.modules.block.C2f             [384, 128, 1]                 \n",
      " 13                  -1  1         0  torch.nn.modules.upsampling.Upsample         [None, 2, 'nearest']          \n",
      " 14             [-1, 4]  1         0  ultralytics.nn.modules.conv.Concat           [1]                           \n",
      " 15                  -1  1     37248  ultralytics.nn.modules.block.C2f             [192, 64, 1]                  \n",
      " 16                  -1  1     36992  ultralytics.nn.modules.conv.Conv             [64, 64, 3, 2]                \n",
      " 17            [-1, 12]  1         0  ultralytics.nn.modules.conv.Concat           [1]                           \n",
      " 18                  -1  1    123648  ultralytics.nn.modules.block.C2f             [192, 128, 1]                 \n",
      " 19                  -1  1    147712  ultralytics.nn.modules.conv.Conv             [128, 128, 3, 2]              \n",
      " 20             [-1, 9]  1         0  ultralytics.nn.modules.conv.Concat           [1]                           \n",
      " 21                  -1  1    493056  ultralytics.nn.modules.block.C2f             [384, 256, 1]                 \n",
      " 22        [15, 18, 21]  1    751897  ultralytics.nn.modules.head.Detect           [3, [64, 128, 256]]           \n",
      "Model summary: 129 layers, 3,011,433 parameters, 3,011,417 gradients, 8.2 GFLOPs\n",
      "\n",
      "Transferred 319/355 items from pretrained weights\n",
      "Freezing layer 'model.22.dfl.conv.weight'\n",
      "\u001b[34m\u001b[1mtrain: \u001b[0mFast image access  (ping: 0.20.0 ms, read: 2.41.1 MB/s, size: 19.7 KB)\n"
     ]
    },
    {
     "name": "stderr",
     "output_type": "stream",
     "text": [
      "\u001b[34m\u001b[1mtrain: \u001b[0mScanning C:\\Users\\Shreya Sharma\\Desktop\\Glove Ungloved hand detection\\Submission\\Gloves and bare hands detection\u001b[0m"
     ]
    },
    {
     "name": "stdout",
     "output_type": "stream",
     "text": [
      "\u001b[34m\u001b[1mval: \u001b[0mFast image access  (ping: 0.10.0 ms, read: 1.90.7 MB/s, size: 15.0 KB)\n"
     ]
    },
    {
     "name": "stderr",
     "output_type": "stream",
     "text": [
      "\n",
      "C:\\Users\\Shreya Sharma\\anaconda3\\Lib\\site-packages\\torch\\utils\\data\\dataloader.py:666: UserWarning: 'pin_memory' argument is set as true but no accelerator is found, then device pinned memory won't be used.\n",
      "  warnings.warn(warn_msg)\n",
      "\u001b[34m\u001b[1mval: \u001b[0mScanning C:\\Users\\Shreya Sharma\\Desktop\\Glove Ungloved hand detection\\Submission\\Gloves and bare hands detection.v\u001b[0m"
     ]
    },
    {
     "name": "stdout",
     "output_type": "stream",
     "text": [
      "Plotting labels to runs\\detect\\train15\\labels.jpg... \n"
     ]
    },
    {
     "name": "stderr",
     "output_type": "stream",
     "text": [
      "\n",
      "C:\\Users\\Shreya Sharma\\anaconda3\\Lib\\site-packages\\torch\\utils\\data\\dataloader.py:666: UserWarning: 'pin_memory' argument is set as true but no accelerator is found, then device pinned memory won't be used.\n",
      "  warnings.warn(warn_msg)\n"
     ]
    },
    {
     "name": "stdout",
     "output_type": "stream",
     "text": [
      "\u001b[34m\u001b[1moptimizer:\u001b[0m 'optimizer=auto' found, ignoring 'lr0=0.01' and 'momentum=0.937' and determining best 'optimizer', 'lr0' and 'momentum' automatically... \n",
      "\u001b[34m\u001b[1moptimizer:\u001b[0m AdamW(lr=0.001429, momentum=0.9) with parameter groups 57 weight(decay=0.0), 64 weight(decay=0.0005), 63 bias(decay=0.0)\n",
      "Image sizes 640 train, 640 val\n",
      "Using 0 dataloader workers\n",
      "Logging results to \u001b[1mruns\\detect\\train15\u001b[0m\n",
      "Starting training for 3 epochs...\n",
      "\n",
      "      Epoch    GPU_mem   box_loss   cls_loss   dfl_loss  Instances       Size\n"
     ]
    },
    {
     "name": "stderr",
     "output_type": "stream",
     "text": [
      "        1/3         0G      1.091      2.624      1.562         23        640: 100%|██████████| 45/45 [04:15<00:00,  5.\n",
      "                 Class     Images  Instances      Box(P          R      mAP50  mAP50-95): 100%|██████████| 5/5 [00:15<0"
     ]
    },
    {
     "name": "stdout",
     "output_type": "stream",
     "text": [
      "                   all        139        181      0.451     0.0657       0.39      0.211\n"
     ]
    },
    {
     "name": "stderr",
     "output_type": "stream",
     "text": [
      "\n"
     ]
    },
    {
     "name": "stdout",
     "output_type": "stream",
     "text": [
      "\n",
      "      Epoch    GPU_mem   box_loss   cls_loss   dfl_loss  Instances       Size\n"
     ]
    },
    {
     "name": "stderr",
     "output_type": "stream",
     "text": [
      "        2/3         0G       1.03      1.848      1.425         21        640: 100%|██████████| 45/45 [03:38<00:00,  4.\n",
      "                 Class     Images  Instances      Box(P          R      mAP50  mAP50-95): 100%|██████████| 5/5 [00:16<0"
     ]
    },
    {
     "name": "stdout",
     "output_type": "stream",
     "text": [
      "                   all        139        181      0.438      0.574      0.424      0.226\n"
     ]
    },
    {
     "name": "stderr",
     "output_type": "stream",
     "text": [
      "\n"
     ]
    },
    {
     "name": "stdout",
     "output_type": "stream",
     "text": [
      "\n",
      "      Epoch    GPU_mem   box_loss   cls_loss   dfl_loss  Instances       Size\n"
     ]
    },
    {
     "name": "stderr",
     "output_type": "stream",
     "text": [
      "        3/3         0G      1.038       1.63      1.443         20        640: 100%|██████████| 45/45 [03:41<00:00,  4.\n",
      "                 Class     Images  Instances      Box(P          R      mAP50  mAP50-95): 100%|██████████| 5/5 [00:15<0"
     ]
    },
    {
     "name": "stdout",
     "output_type": "stream",
     "text": [
      "                   all        139        181      0.526      0.576      0.529      0.316\n"
     ]
    },
    {
     "name": "stderr",
     "output_type": "stream",
     "text": [
      "\n"
     ]
    },
    {
     "name": "stdout",
     "output_type": "stream",
     "text": [
      "\n",
      "3 epochs completed in 0.207 hours.\n",
      "Optimizer stripped from runs\\detect\\train15\\weights\\last.pt, 6.2MB\n",
      "Optimizer stripped from runs\\detect\\train15\\weights\\best.pt, 6.2MB\n",
      "\n",
      "Validating runs\\detect\\train15\\weights\\best.pt...\n",
      "Ultralytics 8.3.182  Python-3.11.4 torch-2.8.0+cpu CPU (11th Gen Intel Core(TM) i5-1135G7 2.40GHz)\n",
      "Model summary (fused): 72 layers, 3,006,233 parameters, 0 gradients, 8.1 GFLOPs\n"
     ]
    },
    {
     "name": "stderr",
     "output_type": "stream",
     "text": [
      "                 Class     Images  Instances      Box(P          R      mAP50  mAP50-95): 100%|██████████| 5/5 [00:14<0\n"
     ]
    },
    {
     "name": "stdout",
     "output_type": "stream",
     "text": [
      "                   all        139        181      0.529      0.576       0.53      0.317\n",
      "         gloverotation         40         44      0.278      0.591      0.372      0.194\n",
      "       surgical-gloves         99        137      0.781      0.562      0.687       0.44\n",
      "Speed: 1.8ms preprocess, 85.5ms inference, 0.0ms loss, 6.0ms postprocess per image\n",
      "Results saved to \u001b[1mruns\\detect\\train15\u001b[0m\n"
     ]
    }
   ],
   "source": [
    "# 1. Train the YOLOv8 model for glove vs bare hand detection\n",
    "model = YOLO(\"yolov8n.pt\")  # Load pretrained YOLOv8n\n",
    "\n",
    "# Train on dataset YAML for 3 epochs (quick test)\n",
    "results = model.train(\n",
    "    data=\"../Gloves and bare hands detection.v2i.yolov8/data.yaml\",  \n",
    "    epochs=3,  \n",
    "    imgsz=640\n",
    ")\n"
   ]
  },
  {
   "cell_type": "markdown",
   "id": "4de13fc3-62a3-4deb-b1f0-f1fc94053282",
   "metadata": {},
   "source": [
    "## Detection Function: Run inference on a single image and save annotation\n"
   ]
  },
  {
   "cell_type": "code",
   "execution_count": 21,
   "id": "c32bc811-8b89-4216-9e45-6efc60f78580",
   "metadata": {},
   "outputs": [],
   "source": [
    "def run_detection(model, image_path, conf_thresh=0.25):\n",
    "    img = cv2.imread(image_path)\n",
    "    results = model(img, conf=conf_thresh)  # returns list of Results objects\n",
    "    detections = []\n",
    "    annotated_img = img.copy()\n",
    "    names = model.names  # class names from the model\n",
    "\n",
    "    for result in results:\n",
    "        boxes = result.boxes\n",
    "        if boxes is None or len(boxes) == 0:\n",
    "            continue\n",
    "        for box in boxes:\n",
    "            cls = int(box.cls[0].item())\n",
    "            label = names[cls]\n",
    "            conf = float(box.conf[0].item())\n",
    "            x1, y1, x2, y2 = [int(coord) for coord in box.xyxy[0].tolist()]\n",
    "\n",
    "            color = (0, 255, 0) if \"glove\" in label.lower() else (0, 0, 255)\n",
    "            cv2.rectangle(annotated_img, (x1, y1), (x2, y2), color, 2)\n",
    "            cv2.putText(annotated_img, f\"{label} {conf:.2f}\", (x1, max(0, y1 - 10)),\n",
    "                        cv2.FONT_HERSHEY_SIMPLEX, 0.6, color, 2)\n",
    "            detections.append({\n",
    "                \"label\": label,\n",
    "                \"confidence\": conf,\n",
    "                \"bbox\": [x1, y1, x2, y2]\n",
    "            })\n",
    "    return annotated_img, detections\n"
   ]
  },
  {
   "cell_type": "markdown",
   "id": "8d1f19bb-02d3-4488-9f55-ec4cd0143304",
   "metadata": {},
   "source": [
    "## Batch process folder: Run detection on all images in input folder,\n",
    "## save annotated images in output folder, and JSON logs in logs folder.\n"
   ]
  },
  {
   "cell_type": "code",
   "execution_count": 22,
   "id": "a7d23e34-fb46-49e1-8173-ff61b32fc8d6",
   "metadata": {},
   "outputs": [],
   "source": [
    "def process_folder(model, input_folder=\"test_images\", output_folder=\"output\", logs_folder=\"logs\", conf_thresh=0.25):\n",
    "    os.makedirs(output_folder, exist_ok=True)\n",
    "    os.makedirs(logs_folder, exist_ok=True)\n",
    "\n",
    "    image_files = sorted(glob(os.path.join(input_folder, \"*.jpg\")))\n",
    "    if not image_files:\n",
    "        print(f\"No .jpg images found in {input_folder}\")\n",
    "        return\n",
    "\n",
    "    for img_path in image_files:\n",
    "        annotated_img, detections = run_detection(model, img_path, conf_thresh)\n",
    "\n",
    "        # Save annotated image\n",
    "        out_img_path = os.path.join(output_folder, os.path.basename(img_path))\n",
    "        cv2.imwrite(out_img_path, annotated_img)\n",
    "\n",
    "        # Save JSON log\n",
    "        log_data = {\n",
    "            \"filename\": os.path.basename(img_path),\n",
    "            \"detections\": detections\n",
    "        }\n",
    "        json_path = os.path.join(logs_folder, Path(img_path).stem + \".json\")\n",
    "        with open(json_path, \"w\") as jf:\n",
    "            json.dump(log_data, jf, indent=2)\n",
    "\n",
    "        print(f\"Processed {os.path.basename(img_path)} - {len(detections)} detections\")\n"
   ]
  },
  {
   "cell_type": "markdown",
   "id": "6412bed3-d3fb-4964-88f6-6562206e288f",
   "metadata": {},
   "source": [
    "## Run batch detection on test_images folder\n"
   ]
  },
  {
   "cell_type": "code",
   "execution_count": 23,
   "id": "a3a31b22-035b-4e55-bd07-d05167dcd828",
   "metadata": {},
   "outputs": [
    {
     "name": "stdout",
     "output_type": "stream",
     "text": [
      "\n",
      "0: 640x640 1 paper, 84.0ms\n",
      "Speed: 3.8ms preprocess, 84.0ms inference, 1.1ms postprocess per image at shape (1, 3, 640, 640)\n",
      "Processed 1596291826438_jpg.rf.1028ec0fcc1a82906942bf201b2fd24c.jpg - 1 detections\n",
      "\n",
      "0: 640x640 1 gloverotation, 73.4ms\n",
      "Speed: 6.1ms preprocess, 73.4ms inference, 2.7ms postprocess per image at shape (1, 3, 640, 640)\n",
      "Processed 1596387616003_jpg.rf.1f48301f49cdd52717d572490d80e0f3.jpg - 1 detections\n",
      "\n",
      "0: 640x640 3 gloverotations, 1 paper, 75.3ms\n",
      "Speed: 4.6ms preprocess, 75.3ms inference, 2.4ms postprocess per image at shape (1, 3, 640, 640)\n",
      "Processed 1596466878995_jpg.rf.d2c5c10c8ca332d8658dd1aef88d486e.jpg - 4 detections\n",
      "\n",
      "0: 640x640 2 gloverotations, 79.9ms\n",
      "Speed: 5.8ms preprocess, 79.9ms inference, 1.3ms postprocess per image at shape (1, 3, 640, 640)\n",
      "Processed 1596467241185_jpg.rf.8a4877f5b00133383798120916a14758.jpg - 2 detections\n",
      "\n",
      "0: 640x640 (no detections), 76.5ms\n",
      "Speed: 5.5ms preprocess, 76.5ms inference, 0.7ms postprocess per image at shape (1, 3, 640, 640)\n",
      "Processed 1596474162034_jpg.rf.127c9ed6f694b412b187645526c9c28d.jpg - 0 detections\n",
      "\n",
      "0: 640x640 (no detections), 64.5ms\n",
      "Speed: 4.1ms preprocess, 64.5ms inference, 0.5ms postprocess per image at shape (1, 3, 640, 640)\n",
      "Processed 1596519784884_jpg.rf.27b6776a4a08aece36e9efcf7fad1011.jpg - 0 detections\n",
      "\n",
      "0: 640x640 1 paper, 68.5ms\n",
      "Speed: 4.8ms preprocess, 68.5ms inference, 1.0ms postprocess per image at shape (1, 3, 640, 640)\n",
      "Processed 1596612630033_jpg.rf.f1c034143f099748d6c0e051dd4fd9a5.jpg - 1 detections\n",
      "\n",
      "0: 640x640 2 gloverotations, 67.7ms\n",
      "Speed: 4.6ms preprocess, 67.7ms inference, 1.1ms postprocess per image at shape (1, 3, 640, 640)\n",
      "Processed 1596612639628_jpg.rf.5236ccdf5023feff66ba4854ecac78be.jpg - 2 detections\n",
      "\n",
      "0: 640x640 2 gloverotations, 2 papers, 69.6ms\n",
      "Speed: 30.4ms preprocess, 69.6ms inference, 1.0ms postprocess per image at shape (1, 3, 640, 640)\n",
      "Processed 1596676243187_jpg.rf.f8e9c327d98f2a7d286d748843d7a213.jpg - 4 detections\n",
      "\n",
      "0: 640x640 4 gloverotations, 64.7ms\n",
      "Speed: 5.3ms preprocess, 64.7ms inference, 0.9ms postprocess per image at shape (1, 3, 640, 640)\n",
      "Processed 1596679466097_jpg.rf.a1e5c85c9c053b99ee8118f5d7c20453.jpg - 4 detections\n",
      "\n",
      "0: 640x640 2 gloverotations, 69.4ms\n",
      "Speed: 5.1ms preprocess, 69.4ms inference, 1.0ms postprocess per image at shape (1, 3, 640, 640)\n",
      "Processed 1596679512188_jpg.rf.cb1bb96384d1670d28c4bb3e66cf5f5c.jpg - 2 detections\n",
      "\n",
      "0: 640x640 (no detections), 68.7ms\n",
      "Speed: 4.7ms preprocess, 68.7ms inference, 0.7ms postprocess per image at shape (1, 3, 640, 640)\n",
      "Processed 1596763800338_jpg.rf.2cd234e180cc2a263228a8ecdb5ba4ef.jpg - 0 detections\n",
      "\n",
      "0: 640x640 1 gloverotation, 73.6ms\n",
      "Speed: 4.7ms preprocess, 73.6ms inference, 0.9ms postprocess per image at shape (1, 3, 640, 640)\n",
      "Processed 1597233609350_jpg.rf.0f44230c138891fcd84f4c6fda89df52.jpg - 1 detections\n",
      "\n",
      "0: 640x640 2 gloverotations, 104.0ms\n",
      "Speed: 6.6ms preprocess, 104.0ms inference, 1.1ms postprocess per image at shape (1, 3, 640, 640)\n",
      "Processed 1597233644849_jpg.rf.8aa8fc127eee63cc77f066b4b039bf19.jpg - 2 detections\n",
      "\n",
      "0: 640x640 (no detections), 78.0ms\n",
      "Speed: 5.4ms preprocess, 78.0ms inference, 0.6ms postprocess per image at shape (1, 3, 640, 640)\n",
      "Processed 1597241513750_jpg.rf.f302317b0c1ab552f90ca60c8f90eaa5.jpg - 0 detections\n",
      "\n",
      "0: 640x640 6 gloverotations, 70.0ms\n",
      "Speed: 4.5ms preprocess, 70.0ms inference, 1.6ms postprocess per image at shape (1, 3, 640, 640)\n",
      "Processed 1597322596059_jpg.rf.a5b4dd6db36b0c70c117a58cd9c4f97e.jpg - 6 detections\n",
      "\n",
      "0: 640x640 (no detections), 103.5ms\n",
      "Speed: 9.8ms preprocess, 103.5ms inference, 0.6ms postprocess per image at shape (1, 3, 640, 640)\n",
      "Processed 1597378141340_jpg.rf.064870524b545bfd9d3e812720abcc55.jpg - 0 detections\n"
     ]
    }
   ],
   "source": [
    "process_folder(model, input_folder=\"test_images\", output_folder=\"output\", logs_folder=\"logs\", conf_thresh=0.3)"
   ]
  },
  {
   "cell_type": "markdown",
   "id": "e5456482-3cb9-494f-a284-311dcaf2ca11",
   "metadata": {},
   "source": [
    "## Visualize one sample annotated image from output folder\n"
   ]
  },
  {
   "cell_type": "code",
   "execution_count": 25,
   "id": "a46b7032-2104-472e-bef2-f8dd3a4ebc53",
   "metadata": {},
   "outputs": [
    {
     "data": {
      "text/plain": [
       "<Figure size 800x600 with 1 Axes>"
      ]
     },
     "metadata": {},
     "output_type": "display_data"
    }
   ],
   "source": [
    "import random\n",
    "import matplotlib.pyplot as plt\n",
    "output_images = os.listdir(\"output\")\n",
    "if output_images:\n",
    "    sample_img = random.choice(output_images)\n",
    "    img = cv2.cvtColor(cv2.imread(os.path.join(\"output\", sample_img)), cv2.COLOR_BGR2RGB)\n",
    "    plt.figure(figsize=(8, 6))\n",
    "    plt.imshow(img)\n",
    "    plt.axis(\"off\")\n",
    "    plt.title(f\"Sample annotated image: {sample_img}\")\n",
    "    plt.show()\n",
    "else:\n",
    "    print(\"No images found in output/ folder.\")\n"
   ]
  },
  {
   "cell_type": "markdown",
   "id": "493677d9-3c39-478e-8b9a-73df3a024037",
   "metadata": {},
   "source": [
    "## Notes\n",
    "\n",
    "- Trained for 3 epochs to quickly verify model’s ability to detect glove vs bare hands.\n",
    "- Adjust confidence threshold in `process_folder()` for tuning detections.\n",
    "- Organize folders as:\n",
    "  - `test_images/` — input images\n",
    "  - `output/` — annotated images saved here\n",
    "  - `logs/` — JSON detection results saved here\n",
    "- Use relative paths for portability.\n"
   ]
  }
 ],
 "metadata": {
  "kernelspec": {
   "display_name": "Python 3 (ipykernel)",
   "language": "python",
   "name": "python3"
  },
  "language_info": {
   "codemirror_mode": {
    "name": "ipython",
    "version": 3
   },
   "file_extension": ".py",
   "mimetype": "text/x-python",
   "name": "python",
   "nbconvert_exporter": "python",
   "pygments_lexer": "ipython3",
   "version": "3.11.4"
  }
 },
 "nbformat": 4,
 "nbformat_minor": 5
}
